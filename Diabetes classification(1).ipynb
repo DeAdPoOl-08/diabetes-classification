{
 "cells": [
  {
   "cell_type": "code",
   "execution_count": 3,
   "id": "8dd04e06-e35d-438d-9770-6d4e8b9a855a",
   "metadata": {
    "scrolled": true
   },
   "outputs": [
    {
     "name": "stdout",
     "output_type": "stream",
     "text": [
      "<class 'pandas.core.frame.DataFrame'>\n",
      "RangeIndex: 70692 entries, 0 to 70691\n",
      "Data columns (total 18 columns):\n",
      " #   Column                Non-Null Count  Dtype  \n",
      "---  ------                --------------  -----  \n",
      " 0   Age                   70692 non-null  float64\n",
      " 1   Sex                   70692 non-null  float64\n",
      " 2   HighChol              70692 non-null  float64\n",
      " 3   CholCheck             70692 non-null  float64\n",
      " 4   BMI                   70692 non-null  float64\n",
      " 5   Smoker                70692 non-null  float64\n",
      " 6   HeartDiseaseorAttack  70692 non-null  float64\n",
      " 7   PhysActivity          70692 non-null  float64\n",
      " 8   Fruits                70692 non-null  float64\n",
      " 9   Veggies               70692 non-null  float64\n",
      " 10  HvyAlcoholConsump     70692 non-null  float64\n",
      " 11  GenHlth               70692 non-null  float64\n",
      " 12  MentHlth              70692 non-null  float64\n",
      " 13  PhysHlth              70692 non-null  float64\n",
      " 14  DiffWalk              70692 non-null  float64\n",
      " 15  Stroke                70692 non-null  float64\n",
      " 16  HighBP                70692 non-null  float64\n",
      " 17  Diabetes              70692 non-null  float64\n",
      "dtypes: float64(18)\n",
      "memory usage: 9.7 MB\n"
     ]
    }
   ],
   "source": [
    "import pandas as pd\n",
    "df = pd.read_csv(\"diabetes_data.csv.zip\")\n",
    "df.info()"
   ]
  },
  {
   "cell_type": "code",
   "execution_count": 4,
   "id": "338fea80-c3d9-40f5-af2b-c6e078c220ee",
   "metadata": {},
   "outputs": [
    {
     "data": {
      "text/plain": [
       "Age\n",
       "1.0       979\n",
       "2.0      1396\n",
       "3.0      2049\n",
       "4.0      2793\n",
       "5.0      3520\n",
       "6.0      4648\n",
       "7.0      6872\n",
       "8.0      8603\n",
       "9.0     10112\n",
       "10.0    10856\n",
       "11.0     8044\n",
       "12.0     5394\n",
       "13.0     5426\n",
       "Name: Diabetes, dtype: int64"
      ]
     },
     "execution_count": 4,
     "metadata": {},
     "output_type": "execute_result"
    }
   ],
   "source": [
    "df.groupby(['Age'])['Diabetes'].count()"
   ]
  },
  {
   "cell_type": "code",
   "execution_count": 5,
   "id": "a4780abc-f670-4125-80ab-bf5ee49803a2",
   "metadata": {},
   "outputs": [
    {
     "data": {
      "text/plain": [
       "Sex\n",
       "0.0    38386\n",
       "1.0    32306\n",
       "Name: Diabetes, dtype: int64"
      ]
     },
     "execution_count": 5,
     "metadata": {},
     "output_type": "execute_result"
    }
   ],
   "source": [
    "df.groupby(['Sex'])['Diabetes'].count()"
   ]
  },
  {
   "cell_type": "code",
   "execution_count": 6,
   "id": "1084e781-6678-4ae9-988b-ee410945cc6a",
   "metadata": {},
   "outputs": [
    {
     "data": {
      "text/plain": [
       "Sex\n",
       "0.0    0.479628\n",
       "1.0    0.524206\n",
       "Name: Diabetes, dtype: float64"
      ]
     },
     "execution_count": 6,
     "metadata": {},
     "output_type": "execute_result"
    }
   ],
   "source": [
    "df.groupby(['Sex'])['Diabetes'].mean()"
   ]
  },
  {
   "cell_type": "code",
   "execution_count": 7,
   "id": "cf2cd6f6-053d-4a6c-9f82-e498ea807a2f",
   "metadata": {},
   "outputs": [
    {
     "data": {
      "text/plain": [
       "Sex\n",
       "0.0    38386\n",
       "1.0    32306\n",
       "Name: count, dtype: int64"
      ]
     },
     "execution_count": 7,
     "metadata": {},
     "output_type": "execute_result"
    }
   ],
   "source": [
    "df['Sex'].value_counts()"
   ]
  },
  {
   "cell_type": "code",
   "execution_count": 8,
   "id": "8e4b17e9-2c44-4963-aa0d-887446eddcff",
   "metadata": {},
   "outputs": [
    {
     "data": {
      "text/plain": [
       "HighChol\n",
       "0.0    0.347759\n",
       "1.0    0.637354\n",
       "Name: Diabetes, dtype: float64"
      ]
     },
     "execution_count": 8,
     "metadata": {},
     "output_type": "execute_result"
    }
   ],
   "source": [
    "df.groupby(['HighChol'])['Diabetes'].mean()"
   ]
  },
  {
   "cell_type": "code",
   "execution_count": 9,
   "id": "9a161060-bbb1-4c7b-b72e-3b257fca3f97",
   "metadata": {},
   "outputs": [
    {
     "data": {
      "text/plain": [
       "CholCheck\n",
       "0.0      241.0\n",
       "1.0    35105.0\n",
       "Name: Diabetes, dtype: float64"
      ]
     },
     "execution_count": 9,
     "metadata": {},
     "output_type": "execute_result"
    }
   ],
   "source": [
    "df.groupby(['CholCheck'])['Diabetes'].sum()"
   ]
  },
  {
   "cell_type": "code",
   "execution_count": 10,
   "id": "d4baac86-fd7d-4551-b434-805130846df3",
   "metadata": {},
   "outputs": [
    {
     "data": {
      "text/plain": [
       "BMI\n",
       "12.0     1\n",
       "13.0     8\n",
       "14.0     8\n",
       "15.0    30\n",
       "16.0    70\n",
       "        ..\n",
       "87.0    13\n",
       "89.0     4\n",
       "92.0     9\n",
       "95.0     4\n",
       "98.0     4\n",
       "Name: Diabetes, Length: 80, dtype: int64"
      ]
     },
     "execution_count": 10,
     "metadata": {},
     "output_type": "execute_result"
    }
   ],
   "source": [
    "df.groupby(['BMI'])['Diabetes'].count()"
   ]
  },
  {
   "cell_type": "code",
   "execution_count": 11,
   "id": "3db0a780-cb85-4d23-9bdf-2fd61065e9b0",
   "metadata": {},
   "outputs": [],
   "source": [
    "slim = df[df['BMI'] <= 18.5]\n",
    "norm = df[(df['BMI'] > 18.5) & (df['BMI'] <= 25)]\n",
    "over = df[df['BMI'] > 25]"
   ]
  },
  {
   "cell_type": "code",
   "execution_count": 12,
   "id": "448fae14-7186-4b87-ac79-ad88bab83bb3",
   "metadata": {},
   "outputs": [
    {
     "data": {
      "text/plain": [
       "Smoker\n",
       "0.0    0.459077\n",
       "1.0    0.545181\n",
       "Name: Diabetes, dtype: float64"
      ]
     },
     "execution_count": 12,
     "metadata": {},
     "output_type": "execute_result"
    }
   ],
   "source": [
    "df.groupby(['Smoker'])['Diabetes'].mean()"
   ]
  },
  {
   "cell_type": "code",
   "execution_count": 13,
   "id": "333f5fea-8312-4969-a9e9-94358a3206dd",
   "metadata": {},
   "outputs": [
    {
     "data": {
      "text/plain": [
       "HeartDiseaseorAttack\n",
       "0.0    0.455953\n",
       "1.0    0.753948\n",
       "Name: Diabetes, dtype: float64"
      ]
     },
     "execution_count": 13,
     "metadata": {},
     "output_type": "execute_result"
    }
   ],
   "source": [
    "df.groupby(['HeartDiseaseorAttack'])['Diabetes'].mean()"
   ]
  },
  {
   "cell_type": "code",
   "execution_count": 14,
   "id": "197aee4d-7feb-4f93-adb3-724097976d6d",
   "metadata": {},
   "outputs": [
    {
     "data": {
      "text/plain": [
       "Fruits\n",
       "0.0    0.533943\n",
       "1.0    0.478462\n",
       "Name: Diabetes, dtype: float64"
      ]
     },
     "execution_count": 14,
     "metadata": {},
     "output_type": "execute_result"
    }
   ],
   "source": [
    "df.groupby(['Fruits'])['Diabetes'].mean()"
   ]
  },
  {
   "cell_type": "code",
   "execution_count": 15,
   "id": "49e04186-e86b-407c-800c-2015f84c9ac8",
   "metadata": {},
   "outputs": [
    {
     "data": {
      "text/plain": [
       "Veggies\n",
       "0.0    0.576614\n",
       "1.0    0.479484\n",
       "Name: Diabetes, dtype: float64"
      ]
     },
     "execution_count": 15,
     "metadata": {},
     "output_type": "execute_result"
    }
   ],
   "source": [
    "df.groupby(['Veggies'])['Diabetes'].mean()"
   ]
  },
  {
   "cell_type": "code",
   "execution_count": 16,
   "id": "c83478c7-e35f-4927-abbf-5bb7fa2ecd41",
   "metadata": {},
   "outputs": [
    {
     "data": {
      "text/plain": [
       "HvyAlcoholConsump\n",
       "0.0    0.510019\n",
       "1.0    0.275497\n",
       "Name: Diabetes, dtype: float64"
      ]
     },
     "execution_count": 16,
     "metadata": {},
     "output_type": "execute_result"
    }
   ],
   "source": [
    "df.groupby(['HvyAlcoholConsump'])['Diabetes'].mean()"
   ]
  },
  {
   "cell_type": "code",
   "execution_count": 17,
   "id": "6d198fca-261e-4964-8e03-2a75be6a1a64",
   "metadata": {},
   "outputs": [
    {
     "data": {
      "text/plain": [
       "HvyAlcoholConsump\n",
       "0.0    67672\n",
       "1.0     3020\n",
       "Name: Diabetes, dtype: int64"
      ]
     },
     "execution_count": 17,
     "metadata": {},
     "output_type": "execute_result"
    }
   ],
   "source": [
    "df.groupby(['HvyAlcoholConsump'])['Diabetes'].count()"
   ]
  },
  {
   "cell_type": "code",
   "execution_count": 18,
   "id": "69f6a84c-e11a-495b-a776-6356394a92ff",
   "metadata": {},
   "outputs": [
    {
     "data": {
      "text/plain": [
       "GenHlth\n",
       "1.0     8282\n",
       "2.0    19872\n",
       "3.0    23427\n",
       "4.0    13303\n",
       "5.0     5808\n",
       "Name: Diabetes, dtype: int64"
      ]
     },
     "execution_count": 18,
     "metadata": {},
     "output_type": "execute_result"
    }
   ],
   "source": [
    "df.groupby(['GenHlth'])['Diabetes'].count()"
   ]
  },
  {
   "cell_type": "code",
   "execution_count": 19,
   "id": "8b744253-81bc-4933-809e-c0273bb90d5f",
   "metadata": {},
   "outputs": [
    {
     "data": {
      "text/plain": [
       "GenHlth\n",
       "1.0    0.137648\n",
       "2.0    0.321105\n",
       "3.0    0.574423\n",
       "4.0    0.735924\n",
       "5.0    0.788223\n",
       "Name: Diabetes, dtype: float64"
      ]
     },
     "execution_count": 19,
     "metadata": {},
     "output_type": "execute_result"
    }
   ],
   "source": [
    "df.groupby(['GenHlth'])['Diabetes'].mean()"
   ]
  },
  {
   "cell_type": "code",
   "execution_count": 20,
   "id": "6db7a3e5-c80b-468e-b578-78750f37a8fe",
   "metadata": {},
   "outputs": [
    {
     "data": {
      "text/plain": [
       "MentHlth\n",
       "0.0     48091\n",
       "1.0      2051\n",
       "2.0      3267\n",
       "3.0      1967\n",
       "4.0       981\n",
       "5.0      2519\n",
       "6.0       288\n",
       "7.0       825\n",
       "8.0       198\n",
       "9.0        28\n",
       "10.0     1924\n",
       "11.0        8\n",
       "12.0      130\n",
       "13.0       15\n",
       "14.0      353\n",
       "15.0     1767\n",
       "16.0       28\n",
       "17.0       18\n",
       "18.0       42\n",
       "19.0        7\n",
       "20.0     1125\n",
       "21.0       84\n",
       "22.0       22\n",
       "23.0       13\n",
       "24.0       10\n",
       "25.0      425\n",
       "26.0       17\n",
       "27.0       17\n",
       "28.0       99\n",
       "29.0       53\n",
       "30.0     4320\n",
       "Name: Diabetes, dtype: int64"
      ]
     },
     "execution_count": 20,
     "metadata": {},
     "output_type": "execute_result"
    }
   ],
   "source": [
    "df.groupby(['MentHlth'])['Diabetes'].count()"
   ]
  },
  {
   "cell_type": "code",
   "execution_count": 21,
   "id": "5d527966-38e9-48f2-a83a-f7495f9a2f97",
   "metadata": {},
   "outputs": [
    {
     "data": {
      "text/plain": [
       "MentHlth\n",
       "0.0     0.486640\n",
       "1.0     0.395904\n",
       "2.0     0.461586\n",
       "3.0     0.469751\n",
       "4.0     0.498471\n",
       "5.0     0.485510\n",
       "6.0     0.569444\n",
       "7.0     0.490909\n",
       "8.0     0.555556\n",
       "9.0     0.464286\n",
       "10.0    0.553015\n",
       "11.0    0.375000\n",
       "12.0    0.515385\n",
       "13.0    0.533333\n",
       "14.0    0.560907\n",
       "15.0    0.578947\n",
       "16.0    0.500000\n",
       "17.0    0.611111\n",
       "18.0    0.476190\n",
       "19.0    0.571429\n",
       "20.0    0.589333\n",
       "21.0    0.571429\n",
       "22.0    0.500000\n",
       "23.0    0.615385\n",
       "24.0    0.600000\n",
       "25.0    0.642353\n",
       "26.0    0.411765\n",
       "27.0    0.705882\n",
       "28.0    0.575758\n",
       "29.0    0.566038\n",
       "30.0    0.640741\n",
       "Name: Diabetes, dtype: float64"
      ]
     },
     "execution_count": 21,
     "metadata": {},
     "output_type": "execute_result"
    }
   ],
   "source": [
    "df.groupby(['MentHlth'])['Diabetes'].mean()"
   ]
  },
  {
   "cell_type": "code",
   "execution_count": 22,
   "id": "b5464572-0e72-48cc-b63f-ee216d7b3f34",
   "metadata": {},
   "outputs": [
    {
     "data": {
      "text/plain": [
       "PhysHlth\n",
       "0.0     39915\n",
       "1.0      2853\n",
       "2.0      4102\n",
       "3.0      2438\n",
       "4.0      1376\n",
       "5.0      2332\n",
       "6.0       447\n",
       "7.0      1326\n",
       "8.0       276\n",
       "9.0        55\n",
       "10.0     1980\n",
       "11.0       22\n",
       "12.0      205\n",
       "13.0       26\n",
       "14.0      802\n",
       "15.0     1913\n",
       "16.0       50\n",
       "17.0       35\n",
       "18.0       50\n",
       "19.0       10\n",
       "20.0     1292\n",
       "21.0      229\n",
       "22.0       31\n",
       "23.0       27\n",
       "24.0       24\n",
       "25.0      557\n",
       "26.0       26\n",
       "27.0       34\n",
       "28.0      211\n",
       "29.0       95\n",
       "30.0     7953\n",
       "Name: Diabetes, dtype: int64"
      ]
     },
     "execution_count": 22,
     "metadata": {},
     "output_type": "execute_result"
    }
   ],
   "source": [
    "df.groupby(['PhysHlth'])['Diabetes'].count()"
   ]
  },
  {
   "cell_type": "code",
   "execution_count": 23,
   "id": "5297fd26-ca4d-4793-b409-f7d8a7a20d9c",
   "metadata": {},
   "outputs": [
    {
     "data": {
      "text/plain": [
       "PhysHlth\n",
       "0.0     0.419391\n",
       "1.0     0.416404\n",
       "2.0     0.494393\n",
       "3.0     0.528712\n",
       "4.0     0.554506\n",
       "5.0     0.563465\n",
       "6.0     0.630872\n",
       "7.0     0.560332\n",
       "8.0     0.576087\n",
       "9.0     0.654545\n",
       "10.0    0.651515\n",
       "11.0    0.545455\n",
       "12.0    0.629268\n",
       "13.0    0.615385\n",
       "14.0    0.589776\n",
       "15.0    0.676947\n",
       "16.0    0.680000\n",
       "17.0    0.771429\n",
       "18.0    0.700000\n",
       "19.0    0.300000\n",
       "20.0    0.709752\n",
       "21.0    0.606987\n",
       "22.0    0.741935\n",
       "23.0    0.592593\n",
       "24.0    0.625000\n",
       "25.0    0.707361\n",
       "26.0    0.846154\n",
       "27.0    0.617647\n",
       "28.0    0.677725\n",
       "29.0    0.778947\n",
       "30.0    0.719980\n",
       "Name: Diabetes, dtype: float64"
      ]
     },
     "execution_count": 23,
     "metadata": {},
     "output_type": "execute_result"
    }
   ],
   "source": [
    "df.groupby(['PhysHlth'])['Diabetes'].mean()"
   ]
  },
  {
   "cell_type": "code",
   "execution_count": 24,
   "id": "0ec87ad6-eaa5-48e8-a237-7704a6127170",
   "metadata": {},
   "outputs": [
    {
     "data": {
      "text/plain": [
       "DiffWalk\n",
       "0.0    52826\n",
       "1.0    17866\n",
       "Name: Diabetes, dtype: int64"
      ]
     },
     "execution_count": 24,
     "metadata": {},
     "output_type": "execute_result"
    }
   ],
   "source": [
    "df.groupby(['DiffWalk'])['Diabetes'].count()"
   ]
  },
  {
   "cell_type": "code",
   "execution_count": 25,
   "id": "8e8a56bd-c9bc-4a81-9cfa-068d19cc3747",
   "metadata": {},
   "outputs": [
    {
     "data": {
      "text/plain": [
       "DiffWalk\n",
       "0.0    0.420721\n",
       "1.0    0.734412\n",
       "Name: Diabetes, dtype: float64"
      ]
     },
     "execution_count": 25,
     "metadata": {},
     "output_type": "execute_result"
    }
   ],
   "source": [
    "df.groupby(['DiffWalk'])['Diabetes'].mean()"
   ]
  },
  {
   "cell_type": "code",
   "execution_count": 26,
   "id": "d8cad55d-cbc6-4ccc-afb5-33c85d48f9ef",
   "metadata": {},
   "outputs": [
    {
     "data": {
      "text/plain": [
       "Stroke\n",
       "0.0    66297\n",
       "1.0     4395\n",
       "Name: Diabetes, dtype: int64"
      ]
     },
     "execution_count": 26,
     "metadata": {},
     "output_type": "execute_result"
    }
   ],
   "source": [
    "df.groupby(['Stroke'])['Diabetes'].count()"
   ]
  },
  {
   "cell_type": "code",
   "execution_count": 27,
   "id": "f5793e2c-52e7-4284-bef9-e416d27de191",
   "metadata": {},
   "outputs": [
    {
     "data": {
      "text/plain": [
       "Stroke\n",
       "0.0    0.483853\n",
       "1.0    0.743572\n",
       "Name: Diabetes, dtype: float64"
      ]
     },
     "execution_count": 27,
     "metadata": {},
     "output_type": "execute_result"
    }
   ],
   "source": [
    "df.groupby(['Stroke'])['Diabetes'].mean()"
   ]
  },
  {
   "cell_type": "code",
   "execution_count": 28,
   "id": "b37b8147-7b30-4477-9527-954bd273fff0",
   "metadata": {},
   "outputs": [
    {
     "data": {
      "text/plain": [
       "HighBP\n",
       "0.0    30860\n",
       "1.0    39832\n",
       "Name: Diabetes, dtype: int64"
      ]
     },
     "execution_count": 28,
     "metadata": {},
     "output_type": "execute_result"
    }
   ],
   "source": [
    "df.groupby(['HighBP'])['Diabetes'].count()"
   ]
  },
  {
   "cell_type": "code",
   "execution_count": 29,
   "id": "6100ee19-469b-41bf-a6ae-3a49ec70ee22",
   "metadata": {},
   "outputs": [
    {
     "data": {
      "text/plain": [
       "HighBP\n",
       "0.0    0.283279\n",
       "1.0    0.667905\n",
       "Name: Diabetes, dtype: float64"
      ]
     },
     "execution_count": 29,
     "metadata": {},
     "output_type": "execute_result"
    }
   ],
   "source": [
    "df.groupby(['HighBP'])['Diabetes'].mean()"
   ]
  },
  {
   "cell_type": "code",
   "execution_count": 30,
   "id": "bc0d04c6-c1b1-4016-b7ea-b086a105aa5d",
   "metadata": {},
   "outputs": [
    {
     "data": {
      "text/plain": [
       "CholCheck\n",
       "0.0    0.086428\n",
       "1.0    0.416168\n",
       "Name: Diabetes, dtype: float64"
      ]
     },
     "execution_count": 30,
     "metadata": {},
     "output_type": "execute_result"
    }
   ],
   "source": [
    "good_hl = df[df['GenHlth'] <= 3]\n",
    "good_hl.groupby('CholCheck')['Diabetes'].mean()"
   ]
  },
  {
   "cell_type": "code",
   "execution_count": 31,
   "id": "1bef4ac9-e2db-4fd9-9781-3db3e5b87ed3",
   "metadata": {},
   "outputs": [],
   "source": [
    "df.drop(['Sex','CholCheck','Fruits','MentHlth','PhysHlth','HvyAlcoholConsump'],axis=1,inplace=True)"
   ]
  },
  {
   "cell_type": "code",
   "execution_count": 32,
   "id": "b8ca03d5-56b8-4f3f-a644-fbc48a03af17",
   "metadata": {},
   "outputs": [],
   "source": [
    "def bmi(value):\n",
    "    if value <= 18.5:\n",
    "        return 'Slim'\n",
    "    elif 18.5 < value <= 25:\n",
    "        return 'Norm'\n",
    "    else:\n",
    "        return \"Over\"\n",
    "df['BMI'] = df['BMI'].apply(bmi)"
   ]
  },
  {
   "cell_type": "code",
   "execution_count": 33,
   "id": "e196277e-6516-4bbd-945a-f668313af954",
   "metadata": {},
   "outputs": [],
   "source": [
    "df[list(pd.get_dummies(df['BMI']).columns)] = pd.get_dummies(df['BMI'])"
   ]
  },
  {
   "cell_type": "code",
   "execution_count": 34,
   "id": "f8d58a14-87e9-430f-a4ce-3c6f2fcd0116",
   "metadata": {},
   "outputs": [],
   "source": [
    "df.drop('BMI',axis=1,inplace=True)"
   ]
  },
  {
   "cell_type": "code",
   "execution_count": 35,
   "id": "c14e0aba-c02d-42cb-9515-f2add5105115",
   "metadata": {},
   "outputs": [],
   "source": [
    "from sklearn.model_selection import train_test_split\n",
    "from sklearn.preprocessing import StandardScaler\n",
    "from sklearn.neighbors import KNeighborsClassifier\n",
    "from sklearn.metrics import confusion_matrix, accuracy_score"
   ]
  },
  {
   "cell_type": "code",
   "execution_count": 36,
   "id": "ceab34c9-a3f7-4b6d-9502-5b28a7562dd0",
   "metadata": {},
   "outputs": [],
   "source": [
    "x = df.drop('Diabetes', axis=1)\n",
    "y = df['Diabetes']"
   ]
  },
  {
   "cell_type": "code",
   "execution_count": 37,
   "id": "a7729c56-ef25-483a-a537-b5e7ee29426a",
   "metadata": {},
   "outputs": [],
   "source": [
    "x_train , x_test , y_train , y_test= train_test_split( x, y, test_size=0.25)"
   ]
  },
  {
   "cell_type": "code",
   "execution_count": 38,
   "id": "33949a11-8323-416a-bb02-e8f192fa181a",
   "metadata": {},
   "outputs": [],
   "source": [
    "sc= StandardScaler()"
   ]
  },
  {
   "cell_type": "code",
   "execution_count": 39,
   "id": "5fee0c61-56ab-421e-abf6-96f1f627a156",
   "metadata": {},
   "outputs": [],
   "source": [
    "x_train = sc.fit_transform(x_train)"
   ]
  },
  {
   "cell_type": "code",
   "execution_count": 40,
   "id": "d147a238-da80-4087-abd1-909fe7979b61",
   "metadata": {},
   "outputs": [],
   "source": [
    "x_test = sc.transform(x_test)"
   ]
  },
  {
   "cell_type": "code",
   "execution_count": 41,
   "id": "61daf932-a83b-4825-8a0d-f477ab7561a1",
   "metadata": {},
   "outputs": [
    {
     "data": {
      "text/html": [
       "<style>#sk-container-id-1 {\n",
       "  /* Definition of color scheme common for light and dark mode */\n",
       "  --sklearn-color-text: black;\n",
       "  --sklearn-color-line: gray;\n",
       "  /* Definition of color scheme for unfitted estimators */\n",
       "  --sklearn-color-unfitted-level-0: #fff5e6;\n",
       "  --sklearn-color-unfitted-level-1: #f6e4d2;\n",
       "  --sklearn-color-unfitted-level-2: #ffe0b3;\n",
       "  --sklearn-color-unfitted-level-3: chocolate;\n",
       "  /* Definition of color scheme for fitted estimators */\n",
       "  --sklearn-color-fitted-level-0: #f0f8ff;\n",
       "  --sklearn-color-fitted-level-1: #d4ebff;\n",
       "  --sklearn-color-fitted-level-2: #b3dbfd;\n",
       "  --sklearn-color-fitted-level-3: cornflowerblue;\n",
       "\n",
       "  /* Specific color for light theme */\n",
       "  --sklearn-color-text-on-default-background: var(--sg-text-color, var(--theme-code-foreground, var(--jp-content-font-color1, black)));\n",
       "  --sklearn-color-background: var(--sg-background-color, var(--theme-background, var(--jp-layout-color0, white)));\n",
       "  --sklearn-color-border-box: var(--sg-text-color, var(--theme-code-foreground, var(--jp-content-font-color1, black)));\n",
       "  --sklearn-color-icon: #696969;\n",
       "\n",
       "  @media (prefers-color-scheme: dark) {\n",
       "    /* Redefinition of color scheme for dark theme */\n",
       "    --sklearn-color-text-on-default-background: var(--sg-text-color, var(--theme-code-foreground, var(--jp-content-font-color1, white)));\n",
       "    --sklearn-color-background: var(--sg-background-color, var(--theme-background, var(--jp-layout-color0, #111)));\n",
       "    --sklearn-color-border-box: var(--sg-text-color, var(--theme-code-foreground, var(--jp-content-font-color1, white)));\n",
       "    --sklearn-color-icon: #878787;\n",
       "  }\n",
       "}\n",
       "\n",
       "#sk-container-id-1 {\n",
       "  color: var(--sklearn-color-text);\n",
       "}\n",
       "\n",
       "#sk-container-id-1 pre {\n",
       "  padding: 0;\n",
       "}\n",
       "\n",
       "#sk-container-id-1 input.sk-hidden--visually {\n",
       "  border: 0;\n",
       "  clip: rect(1px 1px 1px 1px);\n",
       "  clip: rect(1px, 1px, 1px, 1px);\n",
       "  height: 1px;\n",
       "  margin: -1px;\n",
       "  overflow: hidden;\n",
       "  padding: 0;\n",
       "  position: absolute;\n",
       "  width: 1px;\n",
       "}\n",
       "\n",
       "#sk-container-id-1 div.sk-dashed-wrapped {\n",
       "  border: 1px dashed var(--sklearn-color-line);\n",
       "  margin: 0 0.4em 0.5em 0.4em;\n",
       "  box-sizing: border-box;\n",
       "  padding-bottom: 0.4em;\n",
       "  background-color: var(--sklearn-color-background);\n",
       "}\n",
       "\n",
       "#sk-container-id-1 div.sk-container {\n",
       "  /* jupyter's `normalize.less` sets `[hidden] { display: none; }`\n",
       "     but bootstrap.min.css set `[hidden] { display: none !important; }`\n",
       "     so we also need the `!important` here to be able to override the\n",
       "     default hidden behavior on the sphinx rendered scikit-learn.org.\n",
       "     See: https://github.com/scikit-learn/scikit-learn/issues/21755 */\n",
       "  display: inline-block !important;\n",
       "  position: relative;\n",
       "}\n",
       "\n",
       "#sk-container-id-1 div.sk-text-repr-fallback {\n",
       "  display: none;\n",
       "}\n",
       "\n",
       "div.sk-parallel-item,\n",
       "div.sk-serial,\n",
       "div.sk-item {\n",
       "  /* draw centered vertical line to link estimators */\n",
       "  background-image: linear-gradient(var(--sklearn-color-text-on-default-background), var(--sklearn-color-text-on-default-background));\n",
       "  background-size: 2px 100%;\n",
       "  background-repeat: no-repeat;\n",
       "  background-position: center center;\n",
       "}\n",
       "\n",
       "/* Parallel-specific style estimator block */\n",
       "\n",
       "#sk-container-id-1 div.sk-parallel-item::after {\n",
       "  content: \"\";\n",
       "  width: 100%;\n",
       "  border-bottom: 2px solid var(--sklearn-color-text-on-default-background);\n",
       "  flex-grow: 1;\n",
       "}\n",
       "\n",
       "#sk-container-id-1 div.sk-parallel {\n",
       "  display: flex;\n",
       "  align-items: stretch;\n",
       "  justify-content: center;\n",
       "  background-color: var(--sklearn-color-background);\n",
       "  position: relative;\n",
       "}\n",
       "\n",
       "#sk-container-id-1 div.sk-parallel-item {\n",
       "  display: flex;\n",
       "  flex-direction: column;\n",
       "}\n",
       "\n",
       "#sk-container-id-1 div.sk-parallel-item:first-child::after {\n",
       "  align-self: flex-end;\n",
       "  width: 50%;\n",
       "}\n",
       "\n",
       "#sk-container-id-1 div.sk-parallel-item:last-child::after {\n",
       "  align-self: flex-start;\n",
       "  width: 50%;\n",
       "}\n",
       "\n",
       "#sk-container-id-1 div.sk-parallel-item:only-child::after {\n",
       "  width: 0;\n",
       "}\n",
       "\n",
       "/* Serial-specific style estimator block */\n",
       "\n",
       "#sk-container-id-1 div.sk-serial {\n",
       "  display: flex;\n",
       "  flex-direction: column;\n",
       "  align-items: center;\n",
       "  background-color: var(--sklearn-color-background);\n",
       "  padding-right: 1em;\n",
       "  padding-left: 1em;\n",
       "}\n",
       "\n",
       "\n",
       "/* Toggleable style: style used for estimator/Pipeline/ColumnTransformer box that is\n",
       "clickable and can be expanded/collapsed.\n",
       "- Pipeline and ColumnTransformer use this feature and define the default style\n",
       "- Estimators will overwrite some part of the style using the `sk-estimator` class\n",
       "*/\n",
       "\n",
       "/* Pipeline and ColumnTransformer style (default) */\n",
       "\n",
       "#sk-container-id-1 div.sk-toggleable {\n",
       "  /* Default theme specific background. It is overwritten whether we have a\n",
       "  specific estimator or a Pipeline/ColumnTransformer */\n",
       "  background-color: var(--sklearn-color-background);\n",
       "}\n",
       "\n",
       "/* Toggleable label */\n",
       "#sk-container-id-1 label.sk-toggleable__label {\n",
       "  cursor: pointer;\n",
       "  display: block;\n",
       "  width: 100%;\n",
       "  margin-bottom: 0;\n",
       "  padding: 0.5em;\n",
       "  box-sizing: border-box;\n",
       "  text-align: center;\n",
       "}\n",
       "\n",
       "#sk-container-id-1 label.sk-toggleable__label-arrow:before {\n",
       "  /* Arrow on the left of the label */\n",
       "  content: \"▸\";\n",
       "  float: left;\n",
       "  margin-right: 0.25em;\n",
       "  color: var(--sklearn-color-icon);\n",
       "}\n",
       "\n",
       "#sk-container-id-1 label.sk-toggleable__label-arrow:hover:before {\n",
       "  color: var(--sklearn-color-text);\n",
       "}\n",
       "\n",
       "/* Toggleable content - dropdown */\n",
       "\n",
       "#sk-container-id-1 div.sk-toggleable__content {\n",
       "  max-height: 0;\n",
       "  max-width: 0;\n",
       "  overflow: hidden;\n",
       "  text-align: left;\n",
       "  /* unfitted */\n",
       "  background-color: var(--sklearn-color-unfitted-level-0);\n",
       "}\n",
       "\n",
       "#sk-container-id-1 div.sk-toggleable__content.fitted {\n",
       "  /* fitted */\n",
       "  background-color: var(--sklearn-color-fitted-level-0);\n",
       "}\n",
       "\n",
       "#sk-container-id-1 div.sk-toggleable__content pre {\n",
       "  margin: 0.2em;\n",
       "  border-radius: 0.25em;\n",
       "  color: var(--sklearn-color-text);\n",
       "  /* unfitted */\n",
       "  background-color: var(--sklearn-color-unfitted-level-0);\n",
       "}\n",
       "\n",
       "#sk-container-id-1 div.sk-toggleable__content.fitted pre {\n",
       "  /* unfitted */\n",
       "  background-color: var(--sklearn-color-fitted-level-0);\n",
       "}\n",
       "\n",
       "#sk-container-id-1 input.sk-toggleable__control:checked~div.sk-toggleable__content {\n",
       "  /* Expand drop-down */\n",
       "  max-height: 200px;\n",
       "  max-width: 100%;\n",
       "  overflow: auto;\n",
       "}\n",
       "\n",
       "#sk-container-id-1 input.sk-toggleable__control:checked~label.sk-toggleable__label-arrow:before {\n",
       "  content: \"▾\";\n",
       "}\n",
       "\n",
       "/* Pipeline/ColumnTransformer-specific style */\n",
       "\n",
       "#sk-container-id-1 div.sk-label input.sk-toggleable__control:checked~label.sk-toggleable__label {\n",
       "  color: var(--sklearn-color-text);\n",
       "  background-color: var(--sklearn-color-unfitted-level-2);\n",
       "}\n",
       "\n",
       "#sk-container-id-1 div.sk-label.fitted input.sk-toggleable__control:checked~label.sk-toggleable__label {\n",
       "  background-color: var(--sklearn-color-fitted-level-2);\n",
       "}\n",
       "\n",
       "/* Estimator-specific style */\n",
       "\n",
       "/* Colorize estimator box */\n",
       "#sk-container-id-1 div.sk-estimator input.sk-toggleable__control:checked~label.sk-toggleable__label {\n",
       "  /* unfitted */\n",
       "  background-color: var(--sklearn-color-unfitted-level-2);\n",
       "}\n",
       "\n",
       "#sk-container-id-1 div.sk-estimator.fitted input.sk-toggleable__control:checked~label.sk-toggleable__label {\n",
       "  /* fitted */\n",
       "  background-color: var(--sklearn-color-fitted-level-2);\n",
       "}\n",
       "\n",
       "#sk-container-id-1 div.sk-label label.sk-toggleable__label,\n",
       "#sk-container-id-1 div.sk-label label {\n",
       "  /* The background is the default theme color */\n",
       "  color: var(--sklearn-color-text-on-default-background);\n",
       "}\n",
       "\n",
       "/* On hover, darken the color of the background */\n",
       "#sk-container-id-1 div.sk-label:hover label.sk-toggleable__label {\n",
       "  color: var(--sklearn-color-text);\n",
       "  background-color: var(--sklearn-color-unfitted-level-2);\n",
       "}\n",
       "\n",
       "/* Label box, darken color on hover, fitted */\n",
       "#sk-container-id-1 div.sk-label.fitted:hover label.sk-toggleable__label.fitted {\n",
       "  color: var(--sklearn-color-text);\n",
       "  background-color: var(--sklearn-color-fitted-level-2);\n",
       "}\n",
       "\n",
       "/* Estimator label */\n",
       "\n",
       "#sk-container-id-1 div.sk-label label {\n",
       "  font-family: monospace;\n",
       "  font-weight: bold;\n",
       "  display: inline-block;\n",
       "  line-height: 1.2em;\n",
       "}\n",
       "\n",
       "#sk-container-id-1 div.sk-label-container {\n",
       "  text-align: center;\n",
       "}\n",
       "\n",
       "/* Estimator-specific */\n",
       "#sk-container-id-1 div.sk-estimator {\n",
       "  font-family: monospace;\n",
       "  border: 1px dotted var(--sklearn-color-border-box);\n",
       "  border-radius: 0.25em;\n",
       "  box-sizing: border-box;\n",
       "  margin-bottom: 0.5em;\n",
       "  /* unfitted */\n",
       "  background-color: var(--sklearn-color-unfitted-level-0);\n",
       "}\n",
       "\n",
       "#sk-container-id-1 div.sk-estimator.fitted {\n",
       "  /* fitted */\n",
       "  background-color: var(--sklearn-color-fitted-level-0);\n",
       "}\n",
       "\n",
       "/* on hover */\n",
       "#sk-container-id-1 div.sk-estimator:hover {\n",
       "  /* unfitted */\n",
       "  background-color: var(--sklearn-color-unfitted-level-2);\n",
       "}\n",
       "\n",
       "#sk-container-id-1 div.sk-estimator.fitted:hover {\n",
       "  /* fitted */\n",
       "  background-color: var(--sklearn-color-fitted-level-2);\n",
       "}\n",
       "\n",
       "/* Specification for estimator info (e.g. \"i\" and \"?\") */\n",
       "\n",
       "/* Common style for \"i\" and \"?\" */\n",
       "\n",
       ".sk-estimator-doc-link,\n",
       "a:link.sk-estimator-doc-link,\n",
       "a:visited.sk-estimator-doc-link {\n",
       "  float: right;\n",
       "  font-size: smaller;\n",
       "  line-height: 1em;\n",
       "  font-family: monospace;\n",
       "  background-color: var(--sklearn-color-background);\n",
       "  border-radius: 1em;\n",
       "  height: 1em;\n",
       "  width: 1em;\n",
       "  text-decoration: none !important;\n",
       "  margin-left: 1ex;\n",
       "  /* unfitted */\n",
       "  border: var(--sklearn-color-unfitted-level-1) 1pt solid;\n",
       "  color: var(--sklearn-color-unfitted-level-1);\n",
       "}\n",
       "\n",
       ".sk-estimator-doc-link.fitted,\n",
       "a:link.sk-estimator-doc-link.fitted,\n",
       "a:visited.sk-estimator-doc-link.fitted {\n",
       "  /* fitted */\n",
       "  border: var(--sklearn-color-fitted-level-1) 1pt solid;\n",
       "  color: var(--sklearn-color-fitted-level-1);\n",
       "}\n",
       "\n",
       "/* On hover */\n",
       "div.sk-estimator:hover .sk-estimator-doc-link:hover,\n",
       ".sk-estimator-doc-link:hover,\n",
       "div.sk-label-container:hover .sk-estimator-doc-link:hover,\n",
       ".sk-estimator-doc-link:hover {\n",
       "  /* unfitted */\n",
       "  background-color: var(--sklearn-color-unfitted-level-3);\n",
       "  color: var(--sklearn-color-background);\n",
       "  text-decoration: none;\n",
       "}\n",
       "\n",
       "div.sk-estimator.fitted:hover .sk-estimator-doc-link.fitted:hover,\n",
       ".sk-estimator-doc-link.fitted:hover,\n",
       "div.sk-label-container:hover .sk-estimator-doc-link.fitted:hover,\n",
       ".sk-estimator-doc-link.fitted:hover {\n",
       "  /* fitted */\n",
       "  background-color: var(--sklearn-color-fitted-level-3);\n",
       "  color: var(--sklearn-color-background);\n",
       "  text-decoration: none;\n",
       "}\n",
       "\n",
       "/* Span, style for the box shown on hovering the info icon */\n",
       ".sk-estimator-doc-link span {\n",
       "  display: none;\n",
       "  z-index: 9999;\n",
       "  position: relative;\n",
       "  font-weight: normal;\n",
       "  right: .2ex;\n",
       "  padding: .5ex;\n",
       "  margin: .5ex;\n",
       "  width: min-content;\n",
       "  min-width: 20ex;\n",
       "  max-width: 50ex;\n",
       "  color: var(--sklearn-color-text);\n",
       "  box-shadow: 2pt 2pt 4pt #999;\n",
       "  /* unfitted */\n",
       "  background: var(--sklearn-color-unfitted-level-0);\n",
       "  border: .5pt solid var(--sklearn-color-unfitted-level-3);\n",
       "}\n",
       "\n",
       ".sk-estimator-doc-link.fitted span {\n",
       "  /* fitted */\n",
       "  background: var(--sklearn-color-fitted-level-0);\n",
       "  border: var(--sklearn-color-fitted-level-3);\n",
       "}\n",
       "\n",
       ".sk-estimator-doc-link:hover span {\n",
       "  display: block;\n",
       "}\n",
       "\n",
       "/* \"?\"-specific style due to the `<a>` HTML tag */\n",
       "\n",
       "#sk-container-id-1 a.estimator_doc_link {\n",
       "  float: right;\n",
       "  font-size: 1rem;\n",
       "  line-height: 1em;\n",
       "  font-family: monospace;\n",
       "  background-color: var(--sklearn-color-background);\n",
       "  border-radius: 1rem;\n",
       "  height: 1rem;\n",
       "  width: 1rem;\n",
       "  text-decoration: none;\n",
       "  /* unfitted */\n",
       "  color: var(--sklearn-color-unfitted-level-1);\n",
       "  border: var(--sklearn-color-unfitted-level-1) 1pt solid;\n",
       "}\n",
       "\n",
       "#sk-container-id-1 a.estimator_doc_link.fitted {\n",
       "  /* fitted */\n",
       "  border: var(--sklearn-color-fitted-level-1) 1pt solid;\n",
       "  color: var(--sklearn-color-fitted-level-1);\n",
       "}\n",
       "\n",
       "/* On hover */\n",
       "#sk-container-id-1 a.estimator_doc_link:hover {\n",
       "  /* unfitted */\n",
       "  background-color: var(--sklearn-color-unfitted-level-3);\n",
       "  color: var(--sklearn-color-background);\n",
       "  text-decoration: none;\n",
       "}\n",
       "\n",
       "#sk-container-id-1 a.estimator_doc_link.fitted:hover {\n",
       "  /* fitted */\n",
       "  background-color: var(--sklearn-color-fitted-level-3);\n",
       "}\n",
       "</style><div id=\"sk-container-id-1\" class=\"sk-top-container\"><div class=\"sk-text-repr-fallback\"><pre>KNeighborsClassifier(n_neighbors=13)</pre><b>In a Jupyter environment, please rerun this cell to show the HTML representation or trust the notebook. <br />On GitHub, the HTML representation is unable to render, please try loading this page with nbviewer.org.</b></div><div class=\"sk-container\" hidden><div class=\"sk-item\"><div class=\"sk-estimator fitted sk-toggleable\"><input class=\"sk-toggleable__control sk-hidden--visually\" id=\"sk-estimator-id-1\" type=\"checkbox\" checked><label for=\"sk-estimator-id-1\" class=\"sk-toggleable__label fitted sk-toggleable__label-arrow fitted\">&nbsp;&nbsp;KNeighborsClassifier<a class=\"sk-estimator-doc-link fitted\" rel=\"noreferrer\" target=\"_blank\" href=\"https://scikit-learn.org/1.5/modules/generated/sklearn.neighbors.KNeighborsClassifier.html\">?<span>Documentation for KNeighborsClassifier</span></a><span class=\"sk-estimator-doc-link fitted\">i<span>Fitted</span></span></label><div class=\"sk-toggleable__content fitted\"><pre>KNeighborsClassifier(n_neighbors=13)</pre></div> </div></div></div></div>"
      ],
      "text/plain": [
       "KNeighborsClassifier(n_neighbors=13)"
      ]
     },
     "execution_count": 41,
     "metadata": {},
     "output_type": "execute_result"
    }
   ],
   "source": [
    "classifier = KNeighborsClassifier(n_neighbors=13)\n",
    "classifier.fit(x_train,y_train)"
   ]
  },
  {
   "cell_type": "code",
   "execution_count": 42,
   "id": "9b8d7337-256e-40e6-a58d-df05d7b0e15d",
   "metadata": {},
   "outputs": [],
   "source": [
    "preds = classifier.predict(x_test)"
   ]
  },
  {
   "cell_type": "code",
   "execution_count": 43,
   "id": "4c0e71bd-f923-48fb-b0d7-55c59b80e6d3",
   "metadata": {},
   "outputs": [
    {
     "name": "stdout",
     "output_type": "stream",
     "text": [
      "Confusion matrix:\n",
      "[[6048 2732]\n",
      " [2199 6694]]\n"
     ]
    }
   ],
   "source": [
    "print('Confusion matrix:')\n",
    "print(confusion_matrix(y_test, preds))"
   ]
  },
  {
   "cell_type": "code",
   "execution_count": 44,
   "id": "223fbf9f-6856-4e23-ab6e-e74f28b221c6",
   "metadata": {},
   "outputs": [
    {
     "name": "stdout",
     "output_type": "stream",
     "text": [
      "Accuracy score:\n",
      "0.7209868160470775\n"
     ]
    }
   ],
   "source": [
    "print('Accuracy score:')\n",
    "print(accuracy_score(y_test, preds))"
   ]
  }
 ],
 "metadata": {
  "kernelspec": {
   "display_name": "Python 3 (ipykernel)",
   "language": "python",
   "name": "python3"
  },
  "language_info": {
   "codemirror_mode": {
    "name": "ipython",
    "version": 3
   },
   "file_extension": ".py",
   "mimetype": "text/x-python",
   "name": "python",
   "nbconvert_exporter": "python",
   "pygments_lexer": "ipython3",
   "version": "3.12.7"
  }
 },
 "nbformat": 4,
 "nbformat_minor": 5
}
